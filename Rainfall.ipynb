{
 "cells": [
  {
   "cell_type": "code",
   "execution_count": 5,
   "id": "25779d9e",
   "metadata": {},
   "outputs": [
    {
     "data": {
      "text/plain": [
       "47.5"
      ]
     },
     "execution_count": 5,
     "metadata": {},
     "output_type": "execute_result"
    }
   ],
   "source": [
    "list = [30,100,20,40]\n",
    "# Code\n",
    "def mean(list):\n",
    "    return sum(list)/len(list)\n",
    "mean(list)"
   ]
  },
  {
   "cell_type": "code",
   "execution_count": 6,
   "id": "5caf974c",
   "metadata": {},
   "outputs": [
    {
     "data": {
      "text/plain": [
       "31.12474899497183"
      ]
     },
     "execution_count": 6,
     "metadata": {},
     "output_type": "execute_result"
    }
   ],
   "source": [
    "# Code:\n",
    "def mean(list):\n",
    "    return sum(list) / len(list)\n",
    "\n",
    "def std_dev(list):\n",
    "    diff_sum_square = 0\n",
    "    for num in list:\n",
    "        diff_sum_square += (num - mean(list)) ** 2\n",
    "    return (diff_sum_square / len(list)) ** (1 / 2)\n",
    "std_dev(list)"
   ]
  },
  {
   "cell_type": "code",
   "execution_count": 7,
   "id": "d746fba2",
   "metadata": {},
   "outputs": [],
   "source": [
    "# Imports:\n",
    "import pandas as pd\n",
    "import numpy as np\n",
    "import matplotlib.pyplot as plt"
   ]
  },
  {
   "cell_type": "code",
   "execution_count": 8,
   "id": "43b8d5f5",
   "metadata": {},
   "outputs": [
    {
     "ename": "SyntaxError",
     "evalue": "invalid syntax (4239771530.py, line 1)",
     "output_type": "error",
     "traceback": [
      "\u001b[1;36m  Cell \u001b[1;32mIn[8], line 1\u001b[1;36m\u001b[0m\n\u001b[1;33m    path = https://github.com/aliceyee2023/Project1/\u001b[0m\n\u001b[1;37m                ^\u001b[0m\n\u001b[1;31mSyntaxError\u001b[0m\u001b[1;31m:\u001b[0m invalid syntax\n"
     ]
    }
   ],
   "source": [
    "path = https:\n",
    "\n",
    "df1 = pd.read_csv('path/rainfall-monthly-ighhest-daily-total.csv', True)\n",
    "df2 = pd.read_csv('path/rainfall-monthhly-number-of-rain-days.csv', True)\n",
    "df3 = pd.read_csv('path/rainfall-montly-total.csv', True)\n",
    "\n",
    "\n",
    "df1.head(5)\n",
    "df2.head(5)\n",
    "df3.head(5)\n"
   ]
  },
  {
   "cell_type": "code",
   "execution_count": null,
   "id": "a22503cc",
   "metadata": {},
   "outputs": [],
   "source": []
  },
  {
   "cell_type": "code",
   "execution_count": null,
   "id": "07de7c31",
   "metadata": {},
   "outputs": [],
   "source": []
  },
  {
   "cell_type": "code",
   "execution_count": null,
   "id": "df7d9413",
   "metadata": {},
   "outputs": [],
   "source": []
  }
 ],
 "metadata": {
  "kernelspec": {
   "display_name": "Python 3 (ipykernel)",
   "language": "python",
   "name": "python3"
  },
  "language_info": {
   "codemirror_mode": {
    "name": "ipython",
    "version": 3
   },
   "file_extension": ".py",
   "mimetype": "text/x-python",
   "name": "python",
   "nbconvert_exporter": "python",
   "pygments_lexer": "ipython3",
   "version": "3.11.3"
  }
 },
 "nbformat": 4,
 "nbformat_minor": 5
}
